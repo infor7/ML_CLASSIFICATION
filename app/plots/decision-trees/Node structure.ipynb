{
 "cells": [
  {
   "cell_type": "code",
   "execution_count": 2,
   "metadata": {
    "scrolled": true
   },
   "outputs": [],
   "source": [
    "# Quick testing \n",
    "import numpy as np\n",
    "from sklearn.datasets import load_iris\n",
    "from sklearn.model_selection import train_test_split\n"
   ]
  },
  {
   "cell_type": "code",
   "execution_count": 73,
   "metadata": {},
   "outputs": [],
   "source": [
    "class Node:\n",
    "    \n",
    "    \n",
    "    def __init__(self, target, data, level = 0, metric = \"Gini\", class_names = None):\n",
    "        self.target = target\n",
    "        self.data = data\n",
    "        self.final = False\n",
    "        \n",
    "        if class_names is not None:\n",
    "            self.class_names = class_names\n",
    "        \n",
    "        self.assign_class()\n",
    "        \n",
    "        if metric is \"Gini\":\n",
    "            self.gini_score()\n",
    "            self.score = self.gini\n",
    "        elif metric is \"Entropy\":\n",
    "            self.entropy_score()\n",
    "            self.score = self.entropy\n",
    "        else:\n",
    "            self.score = None\n",
    "\n",
    "            \n",
    "    def assign_splitter(self, column, value):\n",
    "        self.splitter_column = column\n",
    "        self.splitter_value = value\n",
    "        \n",
    "    def gini_score(self):\n",
    "        self.gini = 1 - np.sum(np.square(self.classes_count / self.count))\n",
    "    \n",
    "    def entropy_score(self):\n",
    "        pi = self.classes_count / self.count\n",
    "        self.entropy = np.sum(- pi * np.log2(pi))\n",
    "    \n",
    "    def set_final(self):\n",
    "        self.final = True\n",
    "    \n",
    "    def assign_class(self):\n",
    "        self.classes, self.classes_count = np.unique(self.target, return_counts = True)\n",
    "        self.count = self.classes_count.sum()\n",
    "        if self.class_names is None:\n",
    "            self.classification = self.classes[self.classes_count.argmax()]\n",
    "        else:\n",
    "            self.classification = self.class_names[self.classes[self.classes_count.argmax()]]"
   ]
  },
  {
   "cell_type": "code",
   "execution_count": 10,
   "metadata": {},
   "outputs": [
    {
     "data": {
      "text/plain": [
       "[1]"
      ]
     },
     "execution_count": 10,
     "metadata": {},
     "output_type": "execute_result"
    }
   ],
   "source": [
    "iris = load_iris()\n",
    "\n",
    "train_iris_t, test_iris_t, train_iris_d, test_iris_d = train_test_split(iris.target, iris.data, test_size = 0.2)\n",
    "\n",
    "# print(train_iris_t)\n",
    "# print(test_iris_t)\n",
    "# print(train_iris_d)\n",
    "# print(test_iris_d)\n",
    "\n",
    "\n",
    "a = { 1: 123}\n",
    "list(a.keys())\n",
    "# unique,count = np.unique(iris.target, return_counts = True)\n",
    "# # print(unique,count)\n",
    "# count.sum()\n",
    "\n",
    "# # iris.target_names[:]\n",
    "\n",
    "\n",
    "# test_node = Node(iris.target[:50], iris.data[:25], class_names=iris.target_names)\n",
    "# # test_node.assign_class()\n",
    "# # test_node.classification\n",
    "# test_node.entropy_score()\n",
    "# print(test_node.entropy, test_node.gini)"
   ]
  }
 ],
 "metadata": {
  "kernelspec": {
   "display_name": "Python 3",
   "language": "python",
   "name": "python3"
  },
  "language_info": {
   "codemirror_mode": {
    "name": "ipython",
    "version": 3
   },
   "file_extension": ".py",
   "mimetype": "text/x-python",
   "name": "python",
   "nbconvert_exporter": "python",
   "pygments_lexer": "ipython3",
   "version": "3.6.9"
  }
 },
 "nbformat": 4,
 "nbformat_minor": 2
}
