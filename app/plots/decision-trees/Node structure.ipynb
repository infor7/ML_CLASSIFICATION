{
 "cells": [
  {
   "cell_type": "code",
   "execution_count": 82,
   "metadata": {
    "scrolled": true
   },
   "outputs": [],
   "source": [
    "# Quick testing \n",
    "import numpy as np\n",
    "from sklearn.datasets import load_iris"
   ]
  },
  {
   "cell_type": "code",
   "execution_count": 73,
   "metadata": {},
   "outputs": [],
   "source": [
    "class Node:\n",
    "    \n",
    "    \n",
    "    def __init__(self, target, data, level = 0, metric = \"Gini\", class_names = None):\n",
    "        self.target = target\n",
    "        self.data = data\n",
    "        self.final = False\n",
    "        \n",
    "        if class_names is not None:\n",
    "            self.class_names = class_names\n",
    "        \n",
    "        self.assign_class()\n",
    "        \n",
    "        if metric is \"Gini\":\n",
    "            self.gini_score()\n",
    "            self.score = self.gini\n",
    "        elif metric is \"Entropy\":\n",
    "            self.entropy_score()\n",
    "            self.score = self.entropy\n",
    "        else:\n",
    "            self.score = None\n",
    "\n",
    "            \n",
    "    def assign_splitter(self, column, value):\n",
    "        self.splitter_column = column\n",
    "        self.splitter_value = value\n",
    "        \n",
    "    def gini_score(self):\n",
    "        self.gini = 1 - np.sum(np.square(self.classes_count / self.count))\n",
    "    \n",
    "    def entropy_score(self):\n",
    "        pi = self.classes_count / self.count\n",
    "        self.entropy = np.sum(- pi * np.log2(pi))\n",
    "    \n",
    "    def set_final(self):\n",
    "        self.final = True\n",
    "    \n",
    "    def assign_class(self):\n",
    "        self.classes, self.classes_count = np.unique(self.target, return_counts = True)\n",
    "        self.count = self.classes_count.sum()\n",
    "        if self.class_names is None:\n",
    "            self.classification = self.classes[self.classes_count.argmax()]\n",
    "        else:\n",
    "            self.classification = self.class_names[self.classes[self.classes_count.argmax()]]"
   ]
  },
  {
   "cell_type": "code",
   "execution_count": 85,
   "metadata": {},
   "outputs": [
    {
     "name": "stdout",
     "output_type": "stream",
     "text": [
      "0.0 0.0\n"
     ]
    }
   ],
   "source": [
    "iris = load_iris()\n",
    "unique,count = np.unique(iris.target, return_counts = True)\n",
    "# print(unique,count)\n",
    "count.sum()\n",
    "\n",
    "# iris.target_names[:]\n",
    "\n",
    "\n",
    "test_node = Node(iris.target[:50], iris.data[:25], class_names=iris.target_names)\n",
    "# test_node.assign_class()\n",
    "# test_node.classification\n",
    "test_node.entropy_score()\n",
    "print(test_node.entropy, test_node.gini)"
   ]
  }
 ],
 "metadata": {
  "kernelspec": {
   "display_name": "Python 3",
   "language": "python",
   "name": "python3"
  },
  "language_info": {
   "codemirror_mode": {
    "name": "ipython",
    "version": 3
   },
   "file_extension": ".py",
   "mimetype": "text/x-python",
   "name": "python",
   "nbconvert_exporter": "python",
   "pygments_lexer": "ipython3",
   "version": "3.6.9"
  }
 },
 "nbformat": 4,
 "nbformat_minor": 2
}
