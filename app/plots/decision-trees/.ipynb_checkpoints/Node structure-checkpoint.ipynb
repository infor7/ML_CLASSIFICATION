{
 "cells": [
  {
   "cell_type": "code",
   "execution_count": 69,
   "metadata": {
    "scrolled": true
   },
   "outputs": [
    {
     "data": {
      "text/plain": [
       "0.03844675124951946"
      ]
     },
     "execution_count": 69,
     "metadata": {},
     "output_type": "execute_result"
    }
   ],
   "source": [
    "# Quick testing \n",
    "import numpy as np\n",
    "from sklearn.datasets import load_iris\n",
    "\n",
    "iris = load_iris()\n",
    "unique,count = np.unique(iris.target, return_counts = True)\n",
    "# print(unique,count)\n",
    "count.sum()\n",
    "\n",
    "# iris.target_names[:]\n",
    "\n",
    "\n",
    "test_node = Node(iris.target[:51], iris.data[:50], class_names=iris.target_names)\n",
    "# test_node.assign_class()\n",
    "# test_node.classification\n",
    "test_node.gini_score()\n",
    "test_node.gini"
   ]
  },
  {
   "cell_type": "code",
   "execution_count": 72,
   "metadata": {},
   "outputs": [
    {
     "ename": "SyntaxError",
     "evalue": "invalid syntax (<ipython-input-72-4c06dd054bae>, line 31)",
     "output_type": "error",
     "traceback": [
      "\u001b[1;36m  File \u001b[1;32m\"<ipython-input-72-4c06dd054bae>\"\u001b[1;36m, line \u001b[1;32m31\u001b[0m\n\u001b[1;33m    self.entropy =\u001b[0m\n\u001b[1;37m                   ^\u001b[0m\n\u001b[1;31mSyntaxError\u001b[0m\u001b[1;31m:\u001b[0m invalid syntax\n"
     ]
    }
   ],
   "source": [
    "class Node:\n",
    "    \n",
    "    \n",
    "    def __init__(self, target, data, metric = \"Gini\", class_names = None):\n",
    "        self.target = target\n",
    "        self.data = data\n",
    "        self.final = False\n",
    "        \n",
    "        if class_names is not None:\n",
    "            self.class_names = class_names\n",
    "        \n",
    "        self.assign_class()\n",
    "        \n",
    "        if metric is \"Gini\":\n",
    "            self.gini_score()\n",
    "            self.score = self.gini\n",
    "        elif metric is \"Entropy\":\n",
    "            self.entropy_score()\n",
    "            self.score = self.entropy\n",
    "        else:\n",
    "            self.score = None\n",
    "\n",
    "            \n",
    "    def assign_splitter(self, column, value):\n",
    "        self.splitter_column = column\n",
    "        self.splitter_value = value\n",
    "        \n",
    "    def gini_score(self):\n",
    "        self.gini = 1 - np.sum(np.square(self.classes_count / self.count))\n",
    "    \n",
    "    def entropy_score(self):\n",
    "        self.entropy = \n",
    "        pass\n",
    "    \n",
    "    def set_final(self):\n",
    "        self.final = True\n",
    "    \n",
    "    def assign_class(self):\n",
    "        self.classes, self.classes_count = np.unique(self.target, return_counts = True)\n",
    "        self.count = self.classes_count.sum()\n",
    "        if self.class_names is None:\n",
    "            self.classification = self.classes[self.classes_count.argmax()]\n",
    "        else:\n",
    "            self.classification = self.class_names[self.classes[self.classes_count.argmax()]]\n",
    "            \n",
    "    "
   ]
  },
  {
   "cell_type": "code",
   "execution_count": 46,
   "metadata": {
    "collapsed": true
   },
   "outputs": [
    {
     "data": {
      "text/plain": [
       "'versicolor'"
      ]
     },
     "execution_count": 46,
     "metadata": {},
     "output_type": "execute_result"
    }
   ],
   "source": []
  }
 ],
 "metadata": {
  "kernelspec": {
   "display_name": "Python 3",
   "language": "python",
   "name": "python3"
  },
  "language_info": {
   "codemirror_mode": {
    "name": "ipython",
    "version": 3
   },
   "file_extension": ".py",
   "mimetype": "text/x-python",
   "name": "python",
   "nbconvert_exporter": "python",
   "pygments_lexer": "ipython3",
   "version": "3.6.9"
  }
 },
 "nbformat": 4,
 "nbformat_minor": 2
}
